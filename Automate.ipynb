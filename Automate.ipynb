{
  "cells": [
    {
      "cell_type": "markdown",
      "source": [
        "1.Clone Repository and Install Dependencies\n",
        "\n",
        "Clone the repository containing the manga image translation code from GitHub and install the required dependencies using pip, including those listed in the requirements.txt file and the pydensecrf library."
      ],
      "metadata": {
        "id": "1RpvPgc8XunN"
      }
    },
    {
      "cell_type": "code",
      "execution_count": null,
      "metadata": {
        "id": "q4yqAKmnGkEM"
      },
      "outputs": [],
      "source": [
        "!git clone https://github.com/zyddnys/manga-image-translator.git\n",
        "%cd manga-image-translator\n",
        "!pip install -r requirements.txt"
      ]
    },
    {
      "cell_type": "code",
      "execution_count": null,
      "metadata": {
        "id": "tM8uKdTGFu-R"
      },
      "outputs": [],
      "source": [
        "!pip install git+https://github.com/kodalli/pydensecrf.git"
      ]
    },
    {
      "cell_type": "markdown",
      "source": [
        "2. Extract and Prepare Test Data\n",
        "\n",
        "Here, we extract the test data from a zip file located in Google Drive into the designated test directory. We specify the filename of the zip file and its path in Google Drive. The zip file is then extracted, and its contents are moved to the test directory. After moving the files, we remove the temporary directory created during the extraction process."
      ],
      "metadata": {
        "id": "d0chv8f1YpO8"
      }
    },
    {
      "cell_type": "code",
      "execution_count": null,
      "metadata": {
        "id": "ATvS9Z3ZxMWV"
      },
      "outputs": [],
      "source": [
        "import os\n",
        "from google.colab import drive\n",
        "import zipfile\n",
        "\n",
        "# Mount Google Drive\n",
        "drive.mount('/content/drive')\n",
        "\n",
        "# Define the directory paths\n",
        "drive_directory = '/content/drive/MyDrive/ex'  # Update this with your Google Drive directory path\n",
        "test_directory = '/content/test'\n",
        "\n",
        "# Check if the test directory exists, if not, create it\n",
        "if not os.path.exists(test_directory):\n",
        "    os.makedirs(test_directory)\n",
        "    print(f\"Directory '{test_directory}' created successfully.\")\n",
        "else:\n",
        "    print(f\"Directory '{test_directory}' already exists.\")\n",
        "\n",
        "# Specify the filename of the zip file in your Google Drive\n",
        "zip_filename = '1.zip'  # Update this with your zip file name\n",
        "\n",
        "# Path to the zip file in Google Drive\n",
        "zip_file_path = os.path.join(drive_directory, zip_filename)\n",
        "\n",
        "# Extract the zip file\n",
        "with zipfile.ZipFile(zip_file_path, 'r') as zip_ref:\n",
        "    zip_ref.extractall('/content/temp')  # Extract to a temporary directory\n",
        "\n",
        "# Move the extracted files to the desired directory\n",
        "extracted_files = os.listdir('/content/temp')\n",
        "for file in extracted_files:\n",
        "    src = os.path.join('/content/temp', file)\n",
        "    dst = os.path.join('/content/test', file)  # Change this destination directory as needed\n",
        "    os.rename(src, dst)\n",
        "\n",
        "# Clean up temporary directory\n",
        "os.rmdir('/content/temp')\n"
      ]
    },
    {
      "cell_type": "markdown",
      "source": [
        "3. Translate Image\n",
        "   \n",
        "   You can see the parameter in the github repo page and the instruction.\n",
        "\n"
      ],
      "metadata": {
        "id": "NRHNS4yxZARA"
      }
    },
    {
      "cell_type": "code",
      "execution_count": null,
      "metadata": {
        "id": "pVIIAriiFyCG"
      },
      "outputs": [],
      "source": [
        " !python -m manga_translator --translator=sugoi -l ENG -i /content/test/  -v --font-path fonts/anime_ace_3.ttf  --upscale-ratio 2  --uppercase --font-size-offset 10 --manga2eng --use-gpu-limited"
      ]
    },
    {
      "cell_type": "markdown",
      "source": [
        "4. Move & Zip the translated image to your google drive directory\n",
        "\n"
      ],
      "metadata": {
        "id": "4zGEn611Zcm-"
      }
    },
    {
      "cell_type": "code",
      "execution_count": null,
      "metadata": {
        "colab": {
          "base_uri": "https://localhost:8080/",
          "height": 17
        },
        "id": "pnRotI81aNIf",
        "outputId": "9a7103ea-d677-4a80-8360-974f0a2fa717"
      },
      "outputs": [
        {
          "data": {
            "application/javascript": [
              "\n",
              "    async function download(id, filename, size) {\n",
              "      if (!google.colab.kernel.accessAllowed) {\n",
              "        return;\n",
              "      }\n",
              "      const div = document.createElement('div');\n",
              "      const label = document.createElement('label');\n",
              "      label.textContent = `Downloading \"${filename}\": `;\n",
              "      div.appendChild(label);\n",
              "      const progress = document.createElement('progress');\n",
              "      progress.max = size;\n",
              "      div.appendChild(progress);\n",
              "      document.body.appendChild(div);\n",
              "\n",
              "      const buffers = [];\n",
              "      let downloaded = 0;\n",
              "\n",
              "      const channel = await google.colab.kernel.comms.open(id);\n",
              "      // Send a message to notify the kernel that we're ready.\n",
              "      channel.send({})\n",
              "\n",
              "      for await (const message of channel.messages) {\n",
              "        // Send a message to notify the kernel that we're ready.\n",
              "        channel.send({})\n",
              "        if (message.buffers) {\n",
              "          for (const buffer of message.buffers) {\n",
              "            buffers.push(buffer);\n",
              "            downloaded += buffer.byteLength;\n",
              "            progress.value = downloaded;\n",
              "          }\n",
              "        }\n",
              "      }\n",
              "      const blob = new Blob(buffers, {type: 'application/binary'});\n",
              "      const a = document.createElement('a');\n",
              "      a.href = window.URL.createObjectURL(blob);\n",
              "      a.download = filename;\n",
              "      div.appendChild(a);\n",
              "      a.click();\n",
              "      div.remove();\n",
              "    }\n",
              "  "
            ],
            "text/plain": [
              "<IPython.core.display.Javascript object>"
            ]
          },
          "metadata": {},
          "output_type": "display_data"
        },
        {
          "data": {
            "application/javascript": [
              "download(\"download_cca8906d-0f4d-4d1f-88bc-e737b77e43d1\", \"translated_images6.zip\", 153191394)"
            ],
            "text/plain": [
              "<IPython.core.display.Javascript object>"
            ]
          },
          "metadata": {},
          "output_type": "display_data"
        }
      ],
      "source": [
        "import os\n",
        "import shutil\n",
        "from google.colab import files\n",
        "\n",
        "# Define the directory containing the translated images\n",
        "translated_images_dir = '/content/test-translated'\n",
        "\n",
        "# Create a zip file containing the translated images with the desired output name\n",
        "output_zip_name = '/content/OCR-LAMA1'\n",
        "shutil.make_archive(output_zip_name, 'zip', translated_images_dir)\n",
        "\n",
        "# Download the zip file\n",
        "files.download(output_zip_name + '.zip')\n"
      ]
    },
    {
      "cell_type": "markdown",
      "source": [
        "5. Remove temporary directories and files created during the process\n",
        ", including the test directory, the directory containing translated images, and any generated zip files."
      ],
      "metadata": {
        "id": "rXb32PRfZp_l"
      }
    },
    {
      "cell_type": "code",
      "execution_count": null,
      "metadata": {
        "id": "9Z9XHMHseMSA"
      },
      "outputs": [],
      "source": [
        "import os\n",
        "import shutil\n",
        "\n",
        "# Define the directories to remove\n",
        "directories_to_remove = ['/content/test', '/content/test-translated']\n",
        "zip_file_to_remove = '/content/translated_images6.zip'\n",
        "\n",
        "# Remove the directories and all their contents\n",
        "for directory in directories_to_remove:\n",
        "    shutil.rmtree(directory)\n",
        "\n",
        "# Remove the zip file\n",
        "if os.path.exists(zip_file_to_remove):\n",
        "    os.remove(zip_file_to_remove)\n",
        "else:\n",
        "    print(\"The zip file doesn't exist.\")\n"
      ]
    }
  ],
  "metadata": {
    "accelerator": "GPU",
    "colab": {
      "gpuType": "T4",
      "provenance": [],
      "authorship_tag": "ABX9TyNdNCiRiR/6oY3ZWGnEwP3J"
    },
    "kernelspec": {
      "display_name": "Python 3",
      "name": "python3"
    },
    "language_info": {
      "name": "python"
    }
  },
  "nbformat": 4,
  "nbformat_minor": 0
}